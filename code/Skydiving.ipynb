{
 "cells": [
  {
   "cell_type": "code",
   "execution_count": 66,
   "metadata": {
    "collapsed": true
   },
   "outputs": [],
   "source": [
    "# If you want the figures to appear in the notebook, \n",
    "# and you want to interact with them, use\n",
    "# %matplotlib notebook\n",
    "\n",
    "# If you want the figures to appear in the notebook, \n",
    "# and you don't want to interact with them, use\n",
    "# %matplotlib inline\n",
    "\n",
    "# If you want the figures to appear in separate windows, use\n",
    "# %matplotlib qt5\n",
    "\n",
    "# tempo switch from one to another, you have to select Kernel->Restart\n",
    "\n",
    "%matplotlib inline\n",
    "\n",
    "from modsim import *"
   ]
  },
  {
   "cell_type": "code",
   "execution_count": 4,
   "metadata": {
    "collapsed": true
   },
   "outputs": [],
   "source": [
    "m = UNITS.meter\n",
    "s = UNITS.second\n",
    "kg = UNITS.kilogram"
   ]
  },
  {
   "cell_type": "code",
   "execution_count": 5,
   "metadata": {
    "collapsed": true
   },
   "outputs": [],
   "source": [
    "def make_system(duration, v_init=0):\n",
    "    \"\"\"Make a system object.\n",
    "    \n",
    "    duration: time of simulation in seconds\n",
    "    v_init: initial velocity, dimensionless\n",
    "    \n",
    "    returns: System object\n",
    "    \"\"\"\n",
    "    init = State(y=381 * m, v=v_init * m / s)\n",
    "\n",
    "    g = 9.8 * m/s**2\n",
    "    ts = linspace(0, duration, 11)\n",
    "    return System(init=init, g=g, ts=ts)"
   ]
  },
  {
   "cell_type": "code",
   "execution_count": 68,
   "metadata": {
    "collapsed": true
   },
   "outputs": [],
   "source": [
    "def final_velocity(system, results):\n",
    "    \"\"\"Returns the final velocity, with units.\n",
    "    \n",
    "    results: TimeFrame with v.\n",
    "    \n",
    "    returns: v at t_end\n",
    "    \"\"\"\n",
    "    final = flight_time(system)\n",
    "    t_end = final\n",
    "    #print(\"Results.v:\")\n",
    "    #print(results.v)\n",
    "    #print(\"\\nt_end: {}\".format(t_end))\n",
    "    t = results.v.index[-1]\n",
    "    v = results.v[t]\n",
    "    #v = results.v.loc[t_end.magnitude]\n",
    "    print(v)\n",
    "    return v*m/s"
   ]
  },
  {
   "cell_type": "code",
   "execution_count": 69,
   "metadata": {},
   "outputs": [
    {
     "name": "stdout",
     "output_type": "stream",
     "text": [
      "-5.04656075637\n"
     ]
    },
    {
     "data": {
      "text/html": [
       "-5.046560756374134 meter/second"
      ],
      "text/latex": [
       "$-5.046560756374134 \\frac{meter}{second}$"
      ],
      "text/plain": [
       "<Quantity(-5.046560756374134, 'meter / second')>"
      ]
     },
     "execution_count": 69,
     "metadata": {},
     "output_type": "execute_result"
    }
   ],
   "source": [
    "final_velocity(system_human, system_human.results)"
   ]
  },
  {
   "cell_type": "code",
   "execution_count": 46,
   "metadata": {},
   "outputs": [
    {
     "data": {
      "text/html": [
       "<div>\n",
       "<style>\n",
       "    .dataframe thead tr:only-child th {\n",
       "        text-align: right;\n",
       "    }\n",
       "\n",
       "    .dataframe thead th {\n",
       "        text-align: left;\n",
       "    }\n",
       "\n",
       "    .dataframe tbody tr th {\n",
       "        vertical-align: top;\n",
       "    }\n",
       "</style>\n",
       "<table border=\"1\" class=\"dataframe\">\n",
       "  <thead>\n",
       "    <tr style=\"text-align: right;\">\n",
       "      <th></th>\n",
       "      <th>y</th>\n",
       "      <th>v</th>\n",
       "    </tr>\n",
       "  </thead>\n",
       "  <tbody>\n",
       "    <tr>\n",
       "      <th>0.000000</th>\n",
       "      <td>3700.000000</td>\n",
       "      <td>0.000000</td>\n",
       "    </tr>\n",
       "    <tr>\n",
       "      <th>2.542394</th>\n",
       "      <td>3669.320450</td>\n",
       "      <td>-23.391949</td>\n",
       "    </tr>\n",
       "    <tr>\n",
       "      <th>5.084787</th>\n",
       "      <td>3587.175518</td>\n",
       "      <td>-39.833562</td>\n",
       "    </tr>\n",
       "    <tr>\n",
       "      <th>7.627181</th>\n",
       "      <td>3473.247824</td>\n",
       "      <td>-48.742797</td>\n",
       "    </tr>\n",
       "    <tr>\n",
       "      <th>10.169575</th>\n",
       "      <td>3343.331758</td>\n",
       "      <td>-52.900973</td>\n",
       "    </tr>\n",
       "    <tr>\n",
       "      <th>12.711968</th>\n",
       "      <td>3206.218398</td>\n",
       "      <td>-54.706062</td>\n",
       "    </tr>\n",
       "    <tr>\n",
       "      <th>15.254362</th>\n",
       "      <td>3066.030338</td>\n",
       "      <td>-55.464907</td>\n",
       "    </tr>\n",
       "    <tr>\n",
       "      <th>17.796756</th>\n",
       "      <td>2924.558476</td>\n",
       "      <td>-55.779605</td>\n",
       "    </tr>\n",
       "    <tr>\n",
       "      <th>20.339149</th>\n",
       "      <td>2782.555714</td>\n",
       "      <td>-55.909374</td>\n",
       "    </tr>\n",
       "    <tr>\n",
       "      <th>22.881543</th>\n",
       "      <td>2640.334288</td>\n",
       "      <td>-55.962760</td>\n",
       "    </tr>\n",
       "    <tr>\n",
       "      <th>25.423937</th>\n",
       "      <td>2498.022949</td>\n",
       "      <td>-55.984702</td>\n",
       "    </tr>\n",
       "    <tr>\n",
       "      <th>27.966330</th>\n",
       "      <td>2355.674662</td>\n",
       "      <td>-55.993716</td>\n",
       "    </tr>\n",
       "    <tr>\n",
       "      <th>30.508724</th>\n",
       "      <td>2213.311197</td>\n",
       "      <td>-55.997419</td>\n",
       "    </tr>\n",
       "    <tr>\n",
       "      <th>33.051118</th>\n",
       "      <td>2070.941498</td>\n",
       "      <td>-55.998940</td>\n",
       "    </tr>\n",
       "    <tr>\n",
       "      <th>35.593511</th>\n",
       "      <td>1928.569238</td>\n",
       "      <td>-55.999565</td>\n",
       "    </tr>\n",
       "    <tr>\n",
       "      <th>38.135905</th>\n",
       "      <td>1786.195926</td>\n",
       "      <td>-55.999821</td>\n",
       "    </tr>\n",
       "    <tr>\n",
       "      <th>40.678299</th>\n",
       "      <td>1643.822183</td>\n",
       "      <td>-55.999927</td>\n",
       "    </tr>\n",
       "    <tr>\n",
       "      <th>43.220692</th>\n",
       "      <td>1501.448262</td>\n",
       "      <td>-55.999970</td>\n",
       "    </tr>\n",
       "    <tr>\n",
       "      <th>45.763086</th>\n",
       "      <td>1359.074267</td>\n",
       "      <td>-55.999988</td>\n",
       "    </tr>\n",
       "    <tr>\n",
       "      <th>48.305479</th>\n",
       "      <td>1216.700243</td>\n",
       "      <td>-55.999995</td>\n",
       "    </tr>\n",
       "    <tr>\n",
       "      <th>50.847873</th>\n",
       "      <td>1074.326207</td>\n",
       "      <td>-55.999998</td>\n",
       "    </tr>\n",
       "    <tr>\n",
       "      <th>53.390267</th>\n",
       "      <td>1013.600140</td>\n",
       "      <td>-5.058269</td>\n",
       "    </tr>\n",
       "    <tr>\n",
       "      <th>55.932660</th>\n",
       "      <td>1000.766783</td>\n",
       "      <td>-5.046561</td>\n",
       "    </tr>\n",
       "    <tr>\n",
       "      <th>58.475054</th>\n",
       "      <td>987.936439</td>\n",
       "      <td>-5.046561</td>\n",
       "    </tr>\n",
       "    <tr>\n",
       "      <th>61.017448</th>\n",
       "      <td>975.106095</td>\n",
       "      <td>-5.046561</td>\n",
       "    </tr>\n",
       "    <tr>\n",
       "      <th>63.559841</th>\n",
       "      <td>962.275751</td>\n",
       "      <td>-5.046561</td>\n",
       "    </tr>\n",
       "    <tr>\n",
       "      <th>66.102235</th>\n",
       "      <td>949.445407</td>\n",
       "      <td>-5.046561</td>\n",
       "    </tr>\n",
       "    <tr>\n",
       "      <th>68.644629</th>\n",
       "      <td>936.615063</td>\n",
       "      <td>-5.046561</td>\n",
       "    </tr>\n",
       "    <tr>\n",
       "      <th>71.187022</th>\n",
       "      <td>923.784719</td>\n",
       "      <td>-5.046561</td>\n",
       "    </tr>\n",
       "    <tr>\n",
       "      <th>73.729416</th>\n",
       "      <td>910.954374</td>\n",
       "      <td>-5.046561</td>\n",
       "    </tr>\n",
       "    <tr>\n",
       "      <th>...</th>\n",
       "      <td>...</td>\n",
       "      <td>...</td>\n",
       "    </tr>\n",
       "    <tr>\n",
       "      <th>180.509950</th>\n",
       "      <td>372.079924</td>\n",
       "      <td>-5.046561</td>\n",
       "    </tr>\n",
       "    <tr>\n",
       "      <th>183.052343</th>\n",
       "      <td>359.249580</td>\n",
       "      <td>-5.046561</td>\n",
       "    </tr>\n",
       "    <tr>\n",
       "      <th>185.594737</th>\n",
       "      <td>346.419236</td>\n",
       "      <td>-5.046561</td>\n",
       "    </tr>\n",
       "    <tr>\n",
       "      <th>188.137131</th>\n",
       "      <td>333.588892</td>\n",
       "      <td>-5.046561</td>\n",
       "    </tr>\n",
       "    <tr>\n",
       "      <th>190.679524</th>\n",
       "      <td>320.758548</td>\n",
       "      <td>-5.046561</td>\n",
       "    </tr>\n",
       "    <tr>\n",
       "      <th>193.221918</th>\n",
       "      <td>307.928204</td>\n",
       "      <td>-5.046561</td>\n",
       "    </tr>\n",
       "    <tr>\n",
       "      <th>195.764312</th>\n",
       "      <td>295.097860</td>\n",
       "      <td>-5.046561</td>\n",
       "    </tr>\n",
       "    <tr>\n",
       "      <th>198.306705</th>\n",
       "      <td>282.267516</td>\n",
       "      <td>-5.046561</td>\n",
       "    </tr>\n",
       "    <tr>\n",
       "      <th>200.849099</th>\n",
       "      <td>269.437172</td>\n",
       "      <td>-5.046561</td>\n",
       "    </tr>\n",
       "    <tr>\n",
       "      <th>203.391493</th>\n",
       "      <td>256.606828</td>\n",
       "      <td>-5.046561</td>\n",
       "    </tr>\n",
       "    <tr>\n",
       "      <th>205.933886</th>\n",
       "      <td>243.776484</td>\n",
       "      <td>-5.046561</td>\n",
       "    </tr>\n",
       "    <tr>\n",
       "      <th>208.476280</th>\n",
       "      <td>230.946140</td>\n",
       "      <td>-5.046561</td>\n",
       "    </tr>\n",
       "    <tr>\n",
       "      <th>211.018673</th>\n",
       "      <td>218.115796</td>\n",
       "      <td>-5.046561</td>\n",
       "    </tr>\n",
       "    <tr>\n",
       "      <th>213.561067</th>\n",
       "      <td>205.285451</td>\n",
       "      <td>-5.046561</td>\n",
       "    </tr>\n",
       "    <tr>\n",
       "      <th>216.103461</th>\n",
       "      <td>192.455107</td>\n",
       "      <td>-5.046561</td>\n",
       "    </tr>\n",
       "    <tr>\n",
       "      <th>218.645854</th>\n",
       "      <td>179.624763</td>\n",
       "      <td>-5.046561</td>\n",
       "    </tr>\n",
       "    <tr>\n",
       "      <th>221.188248</th>\n",
       "      <td>166.794419</td>\n",
       "      <td>-5.046561</td>\n",
       "    </tr>\n",
       "    <tr>\n",
       "      <th>223.730642</th>\n",
       "      <td>153.964075</td>\n",
       "      <td>-5.046561</td>\n",
       "    </tr>\n",
       "    <tr>\n",
       "      <th>226.273035</th>\n",
       "      <td>141.133731</td>\n",
       "      <td>-5.046561</td>\n",
       "    </tr>\n",
       "    <tr>\n",
       "      <th>228.815429</th>\n",
       "      <td>128.303387</td>\n",
       "      <td>-5.046561</td>\n",
       "    </tr>\n",
       "    <tr>\n",
       "      <th>231.357823</th>\n",
       "      <td>115.473043</td>\n",
       "      <td>-5.046561</td>\n",
       "    </tr>\n",
       "    <tr>\n",
       "      <th>233.900216</th>\n",
       "      <td>102.642699</td>\n",
       "      <td>-5.046561</td>\n",
       "    </tr>\n",
       "    <tr>\n",
       "      <th>236.442610</th>\n",
       "      <td>89.812355</td>\n",
       "      <td>-5.046561</td>\n",
       "    </tr>\n",
       "    <tr>\n",
       "      <th>238.985004</th>\n",
       "      <td>76.982011</td>\n",
       "      <td>-5.046561</td>\n",
       "    </tr>\n",
       "    <tr>\n",
       "      <th>241.527397</th>\n",
       "      <td>64.151667</td>\n",
       "      <td>-5.046561</td>\n",
       "    </tr>\n",
       "    <tr>\n",
       "      <th>244.069791</th>\n",
       "      <td>51.321323</td>\n",
       "      <td>-5.046561</td>\n",
       "    </tr>\n",
       "    <tr>\n",
       "      <th>246.612185</th>\n",
       "      <td>38.490979</td>\n",
       "      <td>-5.046561</td>\n",
       "    </tr>\n",
       "    <tr>\n",
       "      <th>249.154578</th>\n",
       "      <td>25.660635</td>\n",
       "      <td>-5.046561</td>\n",
       "    </tr>\n",
       "    <tr>\n",
       "      <th>251.696972</th>\n",
       "      <td>12.830291</td>\n",
       "      <td>-5.046561</td>\n",
       "    </tr>\n",
       "    <tr>\n",
       "      <th>254.239366</th>\n",
       "      <td>-0.000053</td>\n",
       "      <td>-5.046561</td>\n",
       "    </tr>\n",
       "  </tbody>\n",
       "</table>\n",
       "<p>101 rows × 2 columns</p>\n",
       "</div>"
      ],
      "text/plain": [
       "                      y          v\n",
       "0.000000    3700.000000   0.000000\n",
       "2.542394    3669.320450 -23.391949\n",
       "5.084787    3587.175518 -39.833562\n",
       "7.627181    3473.247824 -48.742797\n",
       "10.169575   3343.331758 -52.900973\n",
       "12.711968   3206.218398 -54.706062\n",
       "15.254362   3066.030338 -55.464907\n",
       "17.796756   2924.558476 -55.779605\n",
       "20.339149   2782.555714 -55.909374\n",
       "22.881543   2640.334288 -55.962760\n",
       "25.423937   2498.022949 -55.984702\n",
       "27.966330   2355.674662 -55.993716\n",
       "30.508724   2213.311197 -55.997419\n",
       "33.051118   2070.941498 -55.998940\n",
       "35.593511   1928.569238 -55.999565\n",
       "38.135905   1786.195926 -55.999821\n",
       "40.678299   1643.822183 -55.999927\n",
       "43.220692   1501.448262 -55.999970\n",
       "45.763086   1359.074267 -55.999988\n",
       "48.305479   1216.700243 -55.999995\n",
       "50.847873   1074.326207 -55.999998\n",
       "53.390267   1013.600140  -5.058269\n",
       "55.932660   1000.766783  -5.046561\n",
       "58.475054    987.936439  -5.046561\n",
       "61.017448    975.106095  -5.046561\n",
       "63.559841    962.275751  -5.046561\n",
       "66.102235    949.445407  -5.046561\n",
       "68.644629    936.615063  -5.046561\n",
       "71.187022    923.784719  -5.046561\n",
       "73.729416    910.954374  -5.046561\n",
       "...                 ...        ...\n",
       "180.509950   372.079924  -5.046561\n",
       "183.052343   359.249580  -5.046561\n",
       "185.594737   346.419236  -5.046561\n",
       "188.137131   333.588892  -5.046561\n",
       "190.679524   320.758548  -5.046561\n",
       "193.221918   307.928204  -5.046561\n",
       "195.764312   295.097860  -5.046561\n",
       "198.306705   282.267516  -5.046561\n",
       "200.849099   269.437172  -5.046561\n",
       "203.391493   256.606828  -5.046561\n",
       "205.933886   243.776484  -5.046561\n",
       "208.476280   230.946140  -5.046561\n",
       "211.018673   218.115796  -5.046561\n",
       "213.561067   205.285451  -5.046561\n",
       "216.103461   192.455107  -5.046561\n",
       "218.645854   179.624763  -5.046561\n",
       "221.188248   166.794419  -5.046561\n",
       "223.730642   153.964075  -5.046561\n",
       "226.273035   141.133731  -5.046561\n",
       "228.815429   128.303387  -5.046561\n",
       "231.357823   115.473043  -5.046561\n",
       "233.900216   102.642699  -5.046561\n",
       "236.442610    89.812355  -5.046561\n",
       "238.985004    76.982011  -5.046561\n",
       "241.527397    64.151667  -5.046561\n",
       "244.069791    51.321323  -5.046561\n",
       "246.612185    38.490979  -5.046561\n",
       "249.154578    25.660635  -5.046561\n",
       "251.696972    12.830291  -5.046561\n",
       "254.239366    -0.000053  -5.046561\n",
       "\n",
       "[101 rows x 2 columns]"
      ]
     },
     "execution_count": 46,
     "metadata": {},
     "output_type": "execute_result"
    }
   ],
   "source": [
    "system_human.results"
   ]
  },
  {
   "cell_type": "code",
   "execution_count": 38,
   "metadata": {
    "collapsed": true
   },
   "outputs": [],
   "source": [
    "def flight_time(system):\n",
    "    \"\"\"Simulates the system and computes flight time.\n",
    "    \n",
    "    Uses cubic interpolation.\n",
    "    \n",
    "    system: System object\n",
    "    \n",
    "    returns: flight time in seconds\n",
    "    \"\"\"\n",
    "    condition.set(duration = 255*s)\n",
    "    condition.set(start = 1000*m)\n",
    "    condition.set(end = 0*m)\n",
    "    system_human = make_system(condition)\n",
    "    run_odeint(system_human, slope_func_update)\n",
    "    y = system.results.y\n",
    "    inverse = Series(y.index, index=y.values)\n",
    "    T = interpolate(inverse, kind='cubic')\n",
    "    T_sidewalk = T(0)\n",
    "    return T_sidewalk * s"
   ]
  },
  {
   "cell_type": "code",
   "execution_count": 8,
   "metadata": {
    "collapsed": true
   },
   "outputs": [],
   "source": [
    "condition = Condition(height = 3700 * m,\n",
    "                      v_init = 0 * m / s,\n",
    "                      g = 9.8 * m/s**2,\n",
    "                      mass = 75 * kg,\n",
    "                      diameter = 0.85 * m,\n",
    "                      rho = 1.2 * kg/m**3,\n",
    "                      v_term = 56 * m / s,\n",
    "                      duration = 180 * s,\n",
    "                      start = 2500*m,\n",
    "                      end = 2000*m)"
   ]
  },
  {
   "cell_type": "code",
   "execution_count": 9,
   "metadata": {
    "collapsed": true
   },
   "outputs": [],
   "source": [
    "condition2 = Condition(height = 3700 * m,\n",
    "                      v_init = 56 * m / s,\n",
    "                      g = 9.8 * m/s**2,\n",
    "                      mass = 75 * kg,\n",
    "                      diameter = 19e-3 * m,\n",
    "                      rho = 1.2 * kg/m**3,\n",
    "                      v_term = 8.9 * m / s,\n",
    "                      duration = 30 * s)"
   ]
  },
  {
   "cell_type": "code",
   "execution_count": 10,
   "metadata": {
    "collapsed": true
   },
   "outputs": [],
   "source": [
    "def make_system(condition):\n",
    "    \"\"\"Makes a System object for the given conditions.\n",
    "    \n",
    "    condition: Condition with height, g, mass, diameter, \n",
    "               rho, v_term, and duration\n",
    "    \n",
    "    returns: System with init, g, mass, rho, C_d, area, and ts\n",
    "    \"\"\"\n",
    "    unpack(condition)\n",
    "    \n",
    "    init = State(y=height, v=v_init)\n",
    "    area = np.pi * (diameter/2)**2\n",
    "    C_d = 2 * mass * g / (rho * area * v_term**2)\n",
    "    ts = linspace(0, duration, 101)\n",
    "    \n",
    "    return System(init=init, g=g, mass=mass, rho=rho,\n",
    "                  C_d=C_d, area=area, ts=ts)"
   ]
  },
  {
   "cell_type": "code",
   "execution_count": 11,
   "metadata": {
    "collapsed": true
   },
   "outputs": [],
   "source": [
    "def slope_func(state, t, system):\n",
    "    \"\"\"Compute derivatives of the state.\n",
    "    \n",
    "    state: position, velocity\n",
    "    t: time\n",
    "    system: System object containing g, rho,\n",
    "            C_d, area, and mass\n",
    "    \n",
    "    returns: derivatives of y and v\n",
    "    \"\"\"\n",
    "    y, v = state\n",
    "    unpack(system)\n",
    "    \n",
    "    f_drag = rho * v**2 * C_d * area / 2\n",
    "    a_drag = f_drag / mass\n",
    "    \n",
    "    dydt = v\n",
    "    dvdt = -g + a_drag\n",
    "    \n",
    "    return dydt, dvdt"
   ]
  },
  {
   "cell_type": "code",
   "execution_count": 12,
   "metadata": {
    "collapsed": true
   },
   "outputs": [],
   "source": [
    "def update_height_condition2(system, condition2):\n",
    "    new_height = system.state.height\n",
    "    condition2.set(height = new_height) #add units?"
   ]
  },
  {
   "cell_type": "code",
   "execution_count": 13,
   "metadata": {
    "collapsed": true
   },
   "outputs": [],
   "source": [
    "def sim(condition, condition2, para_time):\n",
    "    y, v = state\n",
    "    unpack(condition2)\n",
    "    condition.set(duration = para_time * s)\n",
    "    system = make_system(condition)\n",
    "    if t<para_time:\n",
    "        v_init = v_init\n",
    "    else:\n",
    "        condition2.set(height = condition.height)\n",
    "        para_drag = .5 * C_d *area * (init_v**2)\n",
    "        total_drag = ((rho*V**2*C_d*area/2)/mass) + para_drag\n",
    "        dydt = v\n",
    "        dvdt = -g + total_drag\n",
    "    return dydt, dvdt"
   ]
  },
  {
   "cell_type": "code",
   "execution_count": 14,
   "metadata": {},
   "outputs": [
    {
     "ename": "TypeError",
     "evalue": "sim() missing 1 required positional argument: 'para_time'",
     "output_type": "error",
     "traceback": [
      "\u001b[1;31m---------------------------------------------------------------------------\u001b[0m",
      "\u001b[1;31mTypeError\u001b[0m                                 Traceback (most recent call last)",
      "\u001b[1;32m<ipython-input-14-e850ed9127c2>\u001b[0m in \u001b[0;36m<module>\u001b[1;34m()\u001b[0m\n\u001b[0;32m      1\u001b[0m \u001b[1;32mfor\u001b[0m \u001b[0mi\u001b[0m \u001b[1;32min\u001b[0m \u001b[0mrange\u001b[0m\u001b[1;33m(\u001b[0m\u001b[1;36m10\u001b[0m\u001b[1;33m)\u001b[0m\u001b[1;33m:\u001b[0m\u001b[1;33m\u001b[0m\u001b[0m\n\u001b[1;32m----> 2\u001b[1;33m     \u001b[0msim\u001b[0m\u001b[1;33m(\u001b[0m\u001b[0mcondition\u001b[0m\u001b[1;33m,\u001b[0m \u001b[0mi\u001b[0m\u001b[1;33m)\u001b[0m\u001b[1;33m\u001b[0m\u001b[0m\n\u001b[0m",
      "\u001b[1;31mTypeError\u001b[0m: sim() missing 1 required positional argument: 'para_time'"
     ]
    }
   ],
   "source": [
    "for i in range(10):\n",
    "    sim(condition, i)"
   ]
  },
  {
   "cell_type": "code",
   "execution_count": 15,
   "metadata": {},
   "outputs": [
    {
     "ename": "SyntaxError",
     "evalue": "unexpected EOF while parsing (<ipython-input-15-b9dc94e2b02f>, line 2)",
     "output_type": "error",
     "traceback": [
      "\u001b[1;36m  File \u001b[1;32m\"<ipython-input-15-b9dc94e2b02f>\"\u001b[1;36m, line \u001b[1;32m2\u001b[0m\n\u001b[1;33m    \u001b[0m\n\u001b[1;37m    ^\u001b[0m\n\u001b[1;31mSyntaxError\u001b[0m\u001b[1;31m:\u001b[0m unexpected EOF while parsing\n"
     ]
    }
   ],
   "source": [
    "def slope_func_2(y, v, system):\n",
    "    "
   ]
  },
  {
   "cell_type": "code",
   "execution_count": 16,
   "metadata": {
    "collapsed": true
   },
   "outputs": [],
   "source": [
    "def make_system(condition):\n",
    "    \"\"\"Makes a System object for the given conditions.\n",
    "    \n",
    "    condition: Condition with height, g, mass, diameter, \n",
    "               rho, v_term, and duration\n",
    "    \n",
    "    returns: System with init, g, mass, rho, C_d, area, and ts\n",
    "    \"\"\"\n",
    "    unpack(condition)\n",
    "    \n",
    "    init = State(y=height, v=v_init)\n",
    "    area = np.pi * (diameter/2)**2\n",
    "    C_d = 2 * mass * g / (rho * area * v_term**2)\n",
    "    ts = linspace(0, duration, 101)\n",
    "    \n",
    "    return System(init=init, g=g, mass=mass, rho=rho,\n",
    "                  C_d=C_d, area=area, ts=ts, start=start, end=end, v_term = v_term)"
   ]
  },
  {
   "cell_type": "code",
   "execution_count": 17,
   "metadata": {
    "collapsed": true
   },
   "outputs": [],
   "source": [
    "def plot_position(results):\n",
    "    \"\"\"Plot the results.\n",
    "    \n",
    "    results: DataFrame with position, `y`\n",
    "    \"\"\"\n",
    "    newfig()\n",
    "    plot(results.y, label='y')\n",
    "        \n",
    "    decorate(xlabel='Time (s)',\n",
    "             ylabel='Position (m)')"
   ]
  },
  {
   "cell_type": "code",
   "execution_count": 18,
   "metadata": {
    "collapsed": true
   },
   "outputs": [],
   "source": [
    "def slope_func(state, t, system):\n",
    "    \"\"\"Compute derivatives of the state.\n",
    "    \n",
    "    state: position, velocity\n",
    "    t: time\n",
    "    system: System object containing g, rho,\n",
    "            C_d, area, and mass\n",
    "    \n",
    "    returns: derivatives of y and v\n",
    "    \"\"\"\n",
    "    y, v = state\n",
    "    unpack(system)\n",
    "    \n",
    "    f_drag = rho * v**2 * C_d * area / 2\n",
    "    a_drag = f_drag / mass\n",
    "    \n",
    "    dydt = v\n",
    "    dvdt = -g + a_drag\n",
    "    \n",
    "    return dydt, dvdt"
   ]
  },
  {
   "cell_type": "code",
   "execution_count": 19,
   "metadata": {
    "collapsed": true
   },
   "outputs": [],
   "source": [
    "system_human = make_system(condition)\n",
    "run_odeint(system_human, slope_func)"
   ]
  },
  {
   "cell_type": "code",
   "execution_count": 20,
   "metadata": {},
   "outputs": [
    {
     "data": {
      "image/png": "[encoded data removed]",
      "text/plain": [
       "<matplotlib.figure.Figure at 0x1b1b8f9fef0>"
      ]
     },
     "metadata": {},
     "output_type": "display_data"
    }
   ],
   "source": [
    "plot_position(system_human.results)"
   ]
  },
  {
   "cell_type": "code",
   "execution_count": 21,
   "metadata": {
    "collapsed": true
   },
   "outputs": [],
   "source": [
    "def slope_func_update(state, y, system):\n",
    "    y, v = state\n",
    "    unpack(system)\n",
    "    \n",
    "    if end<y<start:\n",
    "        system.C_d = 1.3\n",
    "        system.area = 37 *m**2\n",
    "        system.v_term = 8.9 * m / s\n",
    "        \n",
    "        f_drag = rho * v**2 * C_d * area / 2\n",
    "        a_drag = f_drag / mass\n",
    "    \n",
    "        dydt = v\n",
    "        dvdt = -g + a_drag\n",
    "    else:\n",
    "        f_drag = rho * v**2 * C_d * area / 2\n",
    "        a_drag = f_drag / mass\n",
    "    \n",
    "        dydt = v\n",
    "        dvdt = -g + a_drag\n",
    "    return dydt, dvdt"
   ]
  },
  {
   "cell_type": "code",
   "execution_count": 61,
   "metadata": {
    "collapsed": true
   },
   "outputs": [],
   "source": [
    "#t_end = flight_time(system_human)\n",
    "condition.set(duration = flight_time(system_human)*s)\n",
    "condition.set(start = 1000*m)\n",
    "condition.set(end = 0*m)\n",
    "system_human = make_system(condition)\n",
    "run_odeint(system_human, slope_func_update)"
   ]
  },
  {
   "cell_type": "code",
   "execution_count": 62,
   "metadata": {},
   "outputs": [
    {
     "data": {
      "text/plain": [
       "modsim.TimeFrame"
      ]
     },
     "execution_count": 62,
     "metadata": {},
     "output_type": "execute_result"
    }
   ],
   "source": [
    "type(system_human.results)"
   ]
  },
  {
   "cell_type": "code",
   "execution_count": 70,
   "metadata": {},
   "outputs": [
    {
     "name": "stdout",
     "output_type": "stream",
     "text": [
      "Saving figure to file skydiving_run.pdf\n"
     ]
    },
    {
     "data": {
      "image/png": "[encoded data removed]",
      "text/plain": [
       "<matplotlib.figure.Figure at 0x1b1b97b7860>"
      ]
     },
     "metadata": {},
     "output_type": "display_data"
    }
   ],
   "source": [
    "import seaborn\n",
    "plot_position(system_human.results)\n",
    "savefig('skydiving_run.pdf')"
   ]
  },
  {
   "cell_type": "code",
   "execution_count": 25,
   "metadata": {
    "collapsed": true
   },
   "outputs": [],
   "source": [
    "T = interp_inverse(system_human.results.y, kind='cubic')"
   ]
  },
  {
   "cell_type": "code",
   "execution_count": 26,
   "metadata": {
    "collapsed": true
   },
   "outputs": [],
   "source": [
    "#make time stop when position is 0\n",
    "#make function to output the end velocity, or force, or acceleration\n",
    "#optimize end velocity with out dying\n",
    "    #sweep parachute times"
   ]
  },
  {
   "cell_type": "code",
   "execution_count": 27,
   "metadata": {
    "collapsed": true
   },
   "outputs": [],
   "source": [
    "def interpolate_range(results):\n",
    "    \"\"\"Computes the range of the ball when it lands.\n",
    "    \n",
    "    results: TimeFrame with x and y\n",
    "    \n",
    "    returns: distance in meters\n",
    "    \"\"\"\n",
    "    ys = results.y\n",
    "    t_end = ys.index[-1]\n",
    "    \n",
    "    if ys[t_end] > 0:\n",
    "        msg = \"\"\"The final value of y is still positive;\n",
    "                 looks like the simulation didn't run\n",
    "                 long enough.\"\"\"\n",
    "        raise ValueError(msg)\n",
    "        \n",
    "    t_peak = ys.argmax()\n",
    "    descent = ys.loc[t_peak:]\n",
    "    T = interp_inverse(descent, kind='cubic')\n",
    "    \n",
    "    return T(0)"
   ]
  },
  {
   "cell_type": "code",
   "execution_count": 30,
   "metadata": {},
   "outputs": [
    {
     "data": {
      "text/plain": [
       "array(254.23935507037436)"
      ]
     },
     "execution_count": 30,
     "metadata": {},
     "output_type": "execute_result"
    }
   ],
   "source": [
    "interpolate_range(system_human.results)"
   ]
  },
  {
   "cell_type": "code",
   "execution_count": 31,
   "metadata": {
    "collapsed": true
   },
   "outputs": [],
   "source": [
    "def find_force(system, results):\n",
    "    unpack(system)\n",
    "    v_end = final_velocity(system, results)\n",
    "    t = 1*s\n",
    "    force = (mass*(v_end-0*m/s))/t\n",
    "    return force"
   ]
  },
  {
   "cell_type": "code",
   "execution_count": 32,
   "metadata": {},
   "outputs": [
    {
     "data": {
      "text/html": [
       "19067.952423915267 kilogram meter/second<sup>2</sup>"
      ],
      "text/latex": [
       "$19067.952423915267 \\frac{kilogram \\cdot meter}{second^{2}}$"
      ],
      "text/plain": [
       "<Quantity(19067.952423915267, 'kilogram * meter / second ** 2')>"
      ]
     },
     "execution_count": 32,
     "metadata": {},
     "output_type": "execute_result"
    }
   ],
   "source": [
    "find_force(system_human, system_human.results)"
   ]
  },
  {
   "cell_type": "code",
   "execution_count": 33,
   "metadata": {},
   "outputs": [
    {
     "name": "stdout",
     "output_type": "stream",
     "text": [
      "[  0.   2.   4.   6.   8.  10.  12.  14.  16.  18.  20.  22.  24.  26.  28.\n",
      "  30.  32.  34.  36.  38.  40.  42.  44.  46.  48.  50.  52.  54.  56.  58.\n",
      "  60.]\n"
     ]
    }
   ],
   "source": [
    "t = linrange (0, 60, 2)\n",
    "print (t)"
   ]
  },
  {
   "cell_type": "code",
   "execution_count": 41,
   "metadata": {},
   "outputs": [],
   "source": [
    "def param_sweep (condition):\n",
    "    sweep = SweepSeries()\n",
    "    pullchute_array = linrange(0, 3500, 500)\n",
    "    for pull in pullchute_array:\n",
    "        condition.set(duration = flight_time(system_human)*s)\n",
    "        condition.set(start = pull*m)\n",
    "        condition.set(end = 0*m)\n",
    "        system = make_system(condition)\n",
    "        run_odeint(system, slope_func_update)\n",
    "        v_end = final_velocity(system, system.results)\n",
    "        sweep[pull] = v_end.magnitude\n",
    "    return sweep"
   ]
  },
  {
   "cell_type": "code",
   "execution_count": 42,
   "metadata": {
    "collapsed": true
   },
   "outputs": [],
   "source": [
    "sweep = param_sweep(condition)"
   ]
  },
  {
   "cell_type": "code",
   "execution_count": 43,
   "metadata": {},
   "outputs": [
    {
     "name": "stdout",
     "output_type": "stream",
     "text": [
      "0       254.239355\n",
      "500     254.239355\n",
      "1000    254.239355\n",
      "1500    254.239355\n",
      "2000    254.239355\n",
      "2500    254.239355\n",
      "3000    254.239355\n",
      "3500    254.239355\n",
      "dtype: float64\n"
     ]
    }
   ],
   "source": [
    "print(sweep)"
   ]
  },
  {
   "cell_type": "code",
   "execution_count": 37,
   "metadata": {},
   "outputs": [
    {
     "data": {
      "image/png": "[encoded data removed]",
      "text/plain": [
       "<matplotlib.figure.Figure at 0x1b1b93eb470>"
      ]
     },
     "metadata": {},
     "output_type": "display_data"
    }
   ],
   "source": [
    "plot(sweep)"
   ]
  },
  {
   "cell_type": "code",
   "execution_count": null,
   "metadata": {
    "collapsed": true
   },
   "outputs": [],
   "source": []
  }
 ],
 "metadata": {
  "kernelspec": {
   "display_name": "Python 3",
   "language": "python",
   "name": "python3"
  },
  "language_info": {
   "codemirror_mode": {
    "name": "ipython",
    "version": 3
   },
   "file_extension": ".py",
   "mimetype": "text/x-python",
   "name": "python",
   "nbconvert_exporter": "python",
   "pygments_lexer": "ipython3",
   "version": "3.6.1"
  }
 },
 "nbformat": 4,
 "nbformat_minor": 2
}
